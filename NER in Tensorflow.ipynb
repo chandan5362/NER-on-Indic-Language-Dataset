{
 "cells": [
  {
   "cell_type": "markdown",
   "id": "863f3635",
   "metadata": {},
   "source": [
    "# NER modeling on Indic language dataset."
   ]
  },
  {
   "cell_type": "code",
   "execution_count": 1,
   "id": "6e9f2aeb",
   "metadata": {},
   "outputs": [],
   "source": [
    "import numpy as np\n",
    "import pandas as pd\n",
    "import tensorflow as tf\n",
    "import collections\n",
    "from sklearn.model_selection import train_test_split\n",
    "from tensorflow import keras\n",
    "import tensorflow_datasets as tfds\n",
    "from tensorflow.keras.preprocessing.text import Tokenizer\n",
    "from tensorflow.keras.preprocessing.sequence import pad_sequences\n",
    "\n",
    "import warnings\n",
    "warnings.filterwarnings(\"ignore\")"
   ]
  },
  {
   "cell_type": "markdown",
   "id": "929dadc7",
   "metadata": {},
   "source": [
    "## Strategy"
   ]
  },
  {
   "cell_type": "markdown",
   "id": "95feac72",
   "metadata": {},
   "source": [
    "1. Read the dataset and Preprocess them.\n",
    "2. Use the LSTM based many to many modeling strategy for classification.\n",
    "3. Use [IndicFT](https://indicnlp.ai4bharat.org/indicft/#downloads) based word embeddings.\n",
    "4. Do the classification and report the result in terms of `accuracy` metric."
   ]
  },
  {
   "cell_type": "markdown",
   "id": "d0d5fb34",
   "metadata": {},
   "source": [
    "## Load the dataset"
   ]
  },
  {
   "cell_type": "markdown",
   "id": "550db28f",
   "metadata": {},
   "source": [
    "### Dataset description:\n",
    "After scrolling couple of webs and github repo, I finally found annotated hindi dataset for NER. it can be downloaded from [here](https://drive.google.com/file/d/1lXz5BEm7BUFBY_ETP-mGAxrBddCBL5_i/view?usp=sharing).\\\n",
    "It is given in the `CONLL` format. It consists of 203 annotated training sentences (each word is assosciated with a specific NE) and 21 test sentences.\n"
   ]
  },
  {
   "cell_type": "code",
   "execution_count": 2,
   "id": "b8a1071c",
   "metadata": {},
   "outputs": [],
   "source": [
    "#train data\n",
    "sent = []\n",
    "with open(\"Data/nertrnweather.txt\", 'r') as f:\n",
    "    for lines in f:\n",
    "        sent.append(lines)"
   ]
  },
  {
   "cell_type": "code",
   "execution_count": 3,
   "id": "5fbc1e28",
   "metadata": {},
   "outputs": [],
   "source": [
    "#test data\n",
    "test_sent = []\n",
    "with open(\"Data/nervalweather.txt\", 'r') as f:\n",
    "    for lines in f:\n",
    "        test_sent.append(lines)"
   ]
  },
  {
   "cell_type": "code",
   "execution_count": 4,
   "id": "fe0d2bc4",
   "metadata": {},
   "outputs": [
    {
     "data": {
      "text/plain": [
       "['आज U-date\\n',\n",
       " 'मौसम O\\n',\n",
       " 'कैसा O\\n',\n",
       " 'है O\\n',\n",
       " '\\n',\n",
       " 'क्या O\\n',\n",
       " 'हरिद्वार U-location\\n',\n",
       " 'में O\\n',\n",
       " 'बहुत O\\n',\n",
       " 'ठंड U-weather_type\\n',\n",
       " 'है O\\n',\n",
       " 'अभी U-date\\n',\n",
       " '\\n',\n",
       " 'आज U-date\\n',\n",
       " 'इतनी O\\n',\n",
       " 'गर्मी U-weather_type\\n',\n",
       " 'क्यों O\\n',\n",
       " 'है O\\n',\n",
       " '\\n',\n",
       " 'क्या O\\n',\n",
       " 'मुंबई U-location\\n',\n",
       " 'में O\\n',\n",
       " 'ठंडी U-weather_type\\n',\n",
       " 'है O\\n',\n",
       " '\\n',\n",
       " 'क्या O\\n',\n",
       " 'पाली U-location\\n',\n",
       " 'में O\\n',\n",
       " 'सर्दी U-weather_type\\n',\n",
       " 'आ O\\n',\n",
       " 'गयी O\\n',\n",
       " '\\n',\n",
       " 'क्या O\\n',\n",
       " 'आज U-date\\n',\n",
       " 'बारिश U-weather_type\\n',\n",
       " 'हो O\\n',\n",
       " 'सकती O\\n',\n",
       " 'है O\\n',\n",
       " '\\n',\n",
       " 'किदर O\\n',\n",
       " 'सबसे O\\n',\n",
       " 'ज्यादा O\\n',\n",
       " 'बारिश U-weather_type\\n',\n",
       " 'होती O\\n',\n",
       " 'है O\\n',\n",
       " '\\n',\n",
       " 'मुंबई U-location\\n',\n",
       " 'में O\\n',\n",
       " 'गर्मी U-weather_type\\n',\n",
       " 'ज्यादा O\\n',\n",
       " 'है O\\n',\n",
       " 'क्या O\\n',\n",
       " 'सूरत U-location\\n',\n",
       " 'से O\\n',\n",
       " '\\n',\n",
       " 'मौसम O\\n',\n",
       " 'का O\\n',\n",
       " 'हाल O\\n',\n",
       " 'बताओ O\\n',\n",
       " '\\n',\n",
       " 'आज U-date\\n',\n",
       " 'ज्यादा O\\n',\n",
       " 'ठंड U-weather_type\\n',\n",
       " 'है O\\n',\n",
       " 'क्या O\\n',\n",
       " '\\n',\n",
       " 'मनाली U-location\\n',\n",
       " 'में O\\n',\n",
       " 'कितनी O\\n',\n",
       " 'ठंडी U-weather_type\\n',\n",
       " 'है O\\n',\n",
       " '\\n',\n",
       " 'कोटा U-location\\n',\n",
       " 'ठंडा U-weather_type\\n',\n",
       " 'है O\\n',\n",
       " 'क्या O\\n',\n",
       " 'दिल्ली U-location\\n',\n",
       " 'से O\\n',\n",
       " '\\n',\n",
       " 'कोटा U-location\\n',\n",
       " 'में O\\n',\n",
       " 'ज्यादा O\\n',\n",
       " 'ठंडी U-weather_type\\n',\n",
       " 'है O\\n',\n",
       " 'क्या O\\n',\n",
       " '\\n',\n",
       " 'पठानकोट U-location\\n',\n",
       " 'और O\\n',\n",
       " 'दिल्ली U-location\\n',\n",
       " 'में O\\n',\n",
       " 'कहा O\\n',\n",
       " 'ज्यादा O\\n',\n",
       " 'गर्मी U-weather_type\\n',\n",
       " 'होगी O\\n',\n",
       " '\\n',\n",
       " 'दुनिया O\\n',\n",
       " 'की O\\n',\n",
       " 'सबसे O\\n',\n",
       " 'नमी U-weather_type\\n',\n",
       " 'वाली O\\n',\n",
       " 'जगह O\\n',\n",
       " '\\n',\n",
       " 'बनारस U-location\\n',\n",
       " 'और O\\n',\n",
       " 'गाजीपुर U-location\\n',\n",
       " 'में O\\n',\n",
       " 'कहां O\\n',\n",
       " 'ज्यादा O\\n',\n",
       " 'गर्मी U-weather_type\\n',\n",
       " 'पड़ेगा O\\n',\n",
       " '\\n',\n",
       " 'बनारस U-location\\n',\n",
       " 'और O\\n',\n",
       " 'गाजीपुर U-location\\n',\n",
       " 'में O\\n',\n",
       " 'कहां O\\n',\n",
       " 'ज्यादा O\\n',\n",
       " 'ठंड U-weather_type\\n',\n",
       " 'पड़ेगा O\\n',\n",
       " '\\n',\n",
       " 'बनारस U-location\\n',\n",
       " 'और O\\n',\n",
       " 'गाजीपुर U-location\\n',\n",
       " 'में O\\n',\n",
       " 'कहाँ O\\n',\n",
       " 'ज्यादा O\\n',\n",
       " 'जाड़ा U-weather_type\\n',\n",
       " 'पड़ेगा O\\n',\n",
       " '\\n',\n",
       " 'इस B-date\\n',\n",
       " 'साल L-date\\n',\n",
       " 'जाड़ा U-weather_type\\n',\n",
       " 'पड़ेगा O\\n',\n",
       " 'की O\\n',\n",
       " 'नहीं O\\n',\n",
       " '\\n',\n",
       " 'पठानकोट U-location\\n',\n",
       " 'और O\\n',\n",
       " 'दिल्ली U-location\\n',\n",
       " 'में O\\n',\n",
       " 'कहा O\\n',\n",
       " 'ज्यादा O\\n',\n",
       " 'गर्मी U-weather_type\\n',\n",
       " 'होगी O\\n',\n",
       " '\\n',\n",
       " 'रेणुकूट U-location\\n',\n",
       " 'में O\\n',\n",
       " 'मौसम O\\n',\n",
       " 'कैसा O\\n',\n",
       " 'है O\\n',\n",
       " '\\n']"
      ]
     },
     "execution_count": 4,
     "metadata": {},
     "output_type": "execute_result"
    }
   ],
   "source": [
    "test_sent"
   ]
  },
  {
   "cell_type": "code",
   "execution_count": 5,
   "id": "64aad3c0",
   "metadata": {},
   "outputs": [],
   "source": [
    "s_id = 0\n",
    "sentences = []\n",
    "label = []\n",
    "labels = []\n",
    "sentence = []\n",
    "for el in sent:\n",
    "#     print(el)\n",
    "    if el=='\\n':\n",
    "        sentences.append(sentence)\n",
    "        labels.append(label)\n",
    "        sentence = []\n",
    "        label=[]\n",
    "    else:\n",
    "        strings = el.strip().split()\n",
    "        label.append(strings[1])\n",
    "        sentence.append(strings[0])\n",
    "    "
   ]
  },
  {
   "cell_type": "code",
   "execution_count": 6,
   "id": "e1f918d2",
   "metadata": {},
   "outputs": [],
   "source": [
    "#test data\n",
    "test_sentences = []\n",
    "test_label = []\n",
    "test_labels = []\n",
    "test_sentence = []\n",
    "for el in test_sent:\n",
    "#     print(el)\n",
    "    if el=='\\n':\n",
    "        test_sentences.append(test_sentence)\n",
    "        test_labels.append(test_label)\n",
    "        test_sentence = []\n",
    "        test_label=[]\n",
    "    else:\n",
    "        strings = el.strip().split()\n",
    "        test_label.append(strings[1])\n",
    "        test_sentence.append(strings[0])"
   ]
  },
  {
   "cell_type": "code",
   "execution_count": 7,
   "id": "3108c04d",
   "metadata": {},
   "outputs": [],
   "source": [
    "# test_labels"
   ]
  },
  {
   "cell_type": "markdown",
   "id": "538a5dac",
   "metadata": {},
   "source": [
    "## Label encodings"
   ]
  },
  {
   "cell_type": "code",
   "execution_count": 8,
   "id": "4cab1c04",
   "metadata": {},
   "outputs": [],
   "source": [
    "from sklearn.preprocessing import LabelEncoder"
   ]
  },
  {
   "cell_type": "code",
   "execution_count": 9,
   "id": "723d36b9",
   "metadata": {},
   "outputs": [],
   "source": [
    "ner_labels = [l for el in labels for l in el]\n"
   ]
  },
  {
   "cell_type": "code",
   "execution_count": 10,
   "id": "f4ffb572",
   "metadata": {},
   "outputs": [
    {
     "data": {
      "text/plain": [
       "array(['B-date', 'B-location', 'B-weather_type', 'L-date', 'L-location',\n",
       "       'L-weather_type', 'O', 'U-date', 'U-location', 'U-weather_type'],\n",
       "      dtype='<U14')"
      ]
     },
     "execution_count": 10,
     "metadata": {},
     "output_type": "execute_result"
    }
   ],
   "source": [
    "enc = LabelEncoder().fit(ner_labels)\n",
    "enc.classes_"
   ]
  },
  {
   "cell_type": "code",
   "execution_count": 11,
   "id": "3492f814",
   "metadata": {},
   "outputs": [
    {
     "data": {
      "text/plain": [
       "{'B-date': 0,\n",
       " 'B-location': 1,\n",
       " 'B-weather_type': 2,\n",
       " 'L-date': 3,\n",
       " 'L-location': 4,\n",
       " 'L-weather_type': 5,\n",
       " 'O': 6,\n",
       " 'U-date': 7,\n",
       " 'U-location': 8,\n",
       " 'U-weather_type': 9}"
      ]
     },
     "execution_count": 11,
     "metadata": {},
     "output_type": "execute_result"
    }
   ],
   "source": [
    "mapping = dict(zip(enc.classes_, enc.transform(enc.classes_)))\n",
    "mapping"
   ]
  },
  {
   "cell_type": "markdown",
   "id": "2de07b13",
   "metadata": {},
   "source": [
    "So, there are `nine` unique labels for NER in the given dataset."
   ]
  },
  {
   "cell_type": "markdown",
   "id": "8dbb8315",
   "metadata": {},
   "source": [
    "## Split the dataset into train and test"
   ]
  },
  {
   "cell_type": "code",
   "execution_count": 12,
   "id": "18465320",
   "metadata": {},
   "outputs": [
    {
     "name": "stdout",
     "output_type": "stream",
     "text": [
      "Number of train sentences: 162\n",
      "Number of test sentences: 41\n"
     ]
    }
   ],
   "source": [
    "x_train, x_test, y_train, y_test =  train_test_split(sentences, labels, test_size=0.2) \n",
    "print(f\"Number of train sentences: {len(x_train)}\\nNumber of test sentences: {len(x_test)}\")"
   ]
  },
  {
   "cell_type": "markdown",
   "id": "34930ef0",
   "metadata": {},
   "source": [
    "## Tokenization"
   ]
  },
  {
   "cell_type": "code",
   "execution_count": 13,
   "id": "38ded63e",
   "metadata": {},
   "outputs": [
    {
     "data": {
      "text/plain": [
       "{'<oov>': 1,\n",
       " 'है': 2,\n",
       " 'में': 3,\n",
       " 'क्या': 4,\n",
       " 'आज': 5,\n",
       " 'होगी': 6,\n",
       " 'ज्यादा': 7,\n",
       " 'बारिश': 8,\n",
       " 'मौसम': 9,\n",
       " 'से': 10,\n",
       " 'गर्मी': 11,\n",
       " 'कल': 12,\n",
       " 'इस': 13,\n",
       " 'कितना': 14,\n",
       " 'गर्म': 15,\n",
       " 'सबसे': 16,\n",
       " 'बार': 17,\n",
       " 'ठंडा': 18,\n",
       " 'मुंबई': 19,\n",
       " 'के': 20,\n",
       " 'कैसा': 21,\n",
       " 'की': 22,\n",
       " 'बर्फ': 23,\n",
       " 'अभी': 24,\n",
       " 'रही': 25,\n",
       " 'मुझे': 26,\n",
       " 'और': 27,\n",
       " 'ठंडी': 28,\n",
       " 'होती': 29,\n",
       " 'का': 30,\n",
       " 'जगह': 31,\n",
       " 'कितनी': 32,\n",
       " 'अच्छा': 33,\n",
       " 'दिल्ली': 34,\n",
       " 'पर': 35,\n",
       " 'कहां': 36,\n",
       " 'इंडिया': 37,\n",
       " 'कब': 38,\n",
       " 'मनाली': 39,\n",
       " 'या': 40,\n",
       " 'चाहिए': 41,\n",
       " 'गिर': 42,\n",
       " 'हो': 43,\n",
       " 'कहा': 44,\n",
       " 'शिमला': 45,\n",
       " 'रहेगा': 46,\n",
       " 'कोलकाता': 47,\n",
       " 'सूरत': 48,\n",
       " 'होगा': 49,\n",
       " 'स्थिति': 50,\n",
       " 'तुलना': 51,\n",
       " 'पूर्वानुमान': 52,\n",
       " 'ये': 53,\n",
       " 'बैंगलोर': 54,\n",
       " 'ठंड': 55,\n",
       " 'हफ्ते': 56,\n",
       " 'चालू': 57,\n",
       " 'तापमान': 58,\n",
       " 'लेह': 59,\n",
       " 'अगले': 60,\n",
       " 'हैदराबाद': 61,\n",
       " 'तक': 62,\n",
       " 'कैसी': 63,\n",
       " 'रहा': 64,\n",
       " 'गया': 65,\n",
       " 'भी': 66,\n",
       " 'बढ़ेगा': 67,\n",
       " 'लगता': 68,\n",
       " 'कि': 69,\n",
       " 'दिसंबर': 70,\n",
       " 'जम्मू': 71,\n",
       " 'छतरी': 72,\n",
       " 'रात': 73,\n",
       " 'कुल्लू': 74,\n",
       " 'दिन': 75,\n",
       " 'अपने': 76,\n",
       " 'हुए': 77,\n",
       " 'कपडे': 78,\n",
       " 'ले': 79,\n",
       " 'कसोल': 80,\n",
       " 'जौनपुर': 81,\n",
       " 'गोवा': 82,\n",
       " 'भारत': 83,\n",
       " 'शहर': 84,\n",
       " 'कौनसा': 85,\n",
       " 'करें': 86,\n",
       " 'लिए': 87,\n",
       " 'गंगटोक': 88,\n",
       " 'यह': 89,\n",
       " 'सकती': 90,\n",
       " 'अधिक': 91,\n",
       " 'ठण्ड': 92,\n",
       " 'को': 93,\n",
       " 'पटना': 94,\n",
       " 'डिग्री': 95,\n",
       " 'लग': 96,\n",
       " ',': 97,\n",
       " 'ना': 98,\n",
       " 'काफी': 99,\n",
       " 'कोटा': 100,\n",
       " 'चल': 101,\n",
       " 'गर्मियों': 102,\n",
       " 'चेन्नई': 103,\n",
       " 'दोपहर': 104,\n",
       " 'एक': 105,\n",
       " 'वाला': 106,\n",
       " 'नागपुर': 107,\n",
       " 'आपको': 108,\n",
       " 'बर्फबारी': 109,\n",
       " 'टेम्प्रेचर': 110,\n",
       " 'धूप': 111,\n",
       " 'बहुत': 112,\n",
       " 'बरसात': 113,\n",
       " 'कोई': 114,\n",
       " 'बाद': 115,\n",
       " 'कहाँ': 116,\n",
       " 'कौन': 117,\n",
       " 'सर्दी': 118,\n",
       " 'ऊटी': 119,\n",
       " 'दुनिया': 120,\n",
       " 'पृथ्वी': 121,\n",
       " 'हैं': 122,\n",
       " 'बारे': 123,\n",
       " 'मानसून': 124,\n",
       " 'ऋषिकेश': 125,\n",
       " 'नैनीताल': 126,\n",
       " 'न्यूयॉर्क': 127,\n",
       " 'बेंगलुरु': 128,\n",
       " 'गुड़गांव': 129,\n",
       " 'बढ़': 130,\n",
       " 'गयी': 131,\n",
       " 'बिस्तर': 132,\n",
       " 'जाने': 133,\n",
       " 'पहले': 134,\n",
       " 'धुले': 135,\n",
       " 'आना': 136,\n",
       " 'बताओ': 137,\n",
       " 'हांगकांग': 138,\n",
       " 'शाम': 139,\n",
       " 'हाल': 140,\n",
       " 'वास्तव': 141,\n",
       " 'दीव': 142,\n",
       " 'अहमदाबाद': 143,\n",
       " 'सोमवार': 144,\n",
       " 'दार्जिलिंग': 145,\n",
       " 'धरती': 146,\n",
       " 'सुखाये': 147,\n",
       " 'लेने': 148,\n",
       " 'मेरे': 149,\n",
       " 'गृह': 150,\n",
       " 'नगर': 151,\n",
       " 'तवांग': 152,\n",
       " 'आम': 153,\n",
       " 'तौर': 154,\n",
       " 'होता': 155,\n",
       " 'रायपुर': 156,\n",
       " 'चलती': 157,\n",
       " 'रहेगी': 158,\n",
       " 'त्रिउंड': 159,\n",
       " 'लाहौर': 160,\n",
       " 'पठानकोट': 161,\n",
       " 'बाली': 162,\n",
       " 'मॉरीशस': 163,\n",
       " 'शनिवार': 164,\n",
       " 'जयपुर': 165,\n",
       " 'बढ़': 166,\n",
       " 'जैसे': 167,\n",
       " 'लू': 168,\n",
       " 'वर्ष': 169,\n",
       " 'ग्रीष्मकाल': 170,\n",
       " 'पिछले': 171,\n",
       " 'साल': 172,\n",
       " 'टोपी': 173,\n",
       " 'पहननी': 174,\n",
       " 'मैं': 175,\n",
       " 'घर': 176,\n",
       " 'रास्ते': 177,\n",
       " 'भीगने': 178,\n",
       " 'हूं': 179,\n",
       " 'हमीरपुर': 180,\n",
       " 'गरम': 181,\n",
       " 'शिलॉन्ग': 182,\n",
       " 'आएगी': 183,\n",
       " 'अरे': 184,\n",
       " 'सारथी': 185,\n",
       " 'चंबा': 186,\n",
       " 'जांच': 187,\n",
       " 'लोनावाला': 188,\n",
       " 'बेंगलोरे': 189,\n",
       " 'गुड़गांव': 190,\n",
       " 'सी': 191,\n",
       " 'वापी': 192,\n",
       " 'बिना': 193,\n",
       " 'यात्रा': 194,\n",
       " 'करना': 195,\n",
       " 'सुरक्षित': 196,\n",
       " 'रहने': 197,\n",
       " 'आवश्यकता': 198,\n",
       " 'भर': 199,\n",
       " 'मसूरी': 200,\n",
       " 'बरी': 201,\n",
       " 'मंगलवार': 202,\n",
       " 'पड़ेगी': 203,\n",
       " 'आसार': 204,\n",
       " 'हुगली': 205,\n",
       " 'संभावना': 206,\n",
       " 'यहाँ': 207,\n",
       " 'अब': 208,\n",
       " 'रांची': 209,\n",
       " 'कौनसी': 210,\n",
       " 'चढ़ने': 211,\n",
       " 'साथ': 212,\n",
       " 'बढ़ती': 213,\n",
       " 'जायेगी': 214,\n",
       " 'गीला': 215,\n",
       " 'लंदन': 216,\n",
       " 'कुछ': 217,\n",
       " 'आ': 218,\n",
       " 'किधर': 219,\n",
       " 'सुबह': 220,\n",
       " 'लेनी': 221,\n",
       " 'नवंबर': 222,\n",
       " 'गुजरात': 223,\n",
       " 'अवगत': 224,\n",
       " 'केसा': 225,\n",
       " 'जोर': 226,\n",
       " 'हम': 227,\n",
       " 'तरीके': 228,\n",
       " 'कैसे': 229,\n",
       " 'श्रीनगर': 230,\n",
       " 'उम्मीद': 231,\n",
       " 'करनी': 232,\n",
       " 'लिलोन्ग्वे': 233,\n",
       " 'हिमाचल': 234,\n",
       " 'गिरा': 235,\n",
       " 'था': 236,\n",
       " 'खजियार': 237,\n",
       " 'फर्क': 238,\n",
       " 'बरेली': 239,\n",
       " 'पहुंच': 240,\n",
       " 'जोधपुर': 241,\n",
       " 'पालनपुर': 242,\n",
       " 'आर्द्रता': 243,\n",
       " '?': 244,\n",
       " 'बंद': 245,\n",
       " 'महीने': 246,\n",
       " 'कैलिफ़ोर्निया': 247,\n",
       " 'ऑक्सफोर्ड': 248,\n",
       " 'ऐसा': 249,\n",
       " 'गिरेगी': 250,\n",
       " 'सा': 251,\n",
       " 'जून': 252,\n",
       " 'हिमपात': 253,\n",
       " 'खड़गपुर': 254,\n",
       " 'अप्रैल': 255,\n",
       " 'अचानक': 256,\n",
       " 'कितने': 257,\n",
       " 'चलेगी': 258,\n",
       " 'जोरदार': 259,\n",
       " 'होने': 260,\n",
       " 'वाली': 261}"
      ]
     },
     "execution_count": 13,
     "metadata": {},
     "output_type": "execute_result"
    }
   ],
   "source": [
    "tokeniser = Tokenizer(oov_token='<oov>')\n",
    "tokeniser.fit_on_texts(x_train)\n",
    "tokeniser.word_index"
   ]
  },
  {
   "cell_type": "code",
   "execution_count": 14,
   "id": "c323d879",
   "metadata": {
    "scrolled": true
   },
   "outputs": [],
   "source": [
    "# transform the labels\n",
    "train_labels = [enc.transform(y) for y in y_train]\n",
    "val_labels = [enc.transform(y) for y in y_test]\n",
    "test_labels = [enc.transform(y) for y in test_labels]"
   ]
  },
  {
   "cell_type": "code",
   "execution_count": 15,
   "id": "b9e54723",
   "metadata": {},
   "outputs": [],
   "source": [
    "# test_sentences"
   ]
  },
  {
   "cell_type": "code",
   "execution_count": 16,
   "id": "9d53b71b",
   "metadata": {},
   "outputs": [],
   "source": [
    "max_len = 30\n",
    "trunc_type='post'\n",
    "\n",
    "#train data\n",
    "train_sequences = tokeniser.texts_to_sequences(x_train)\n",
    "train_padded = pad_sequences(train_sequences, maxlen=max_len, truncating=trunc_type)\n",
    "train_padded_labels = pad_sequences(train_labels,maxlen=max_len, truncating=trunc_type, value = mapping['O'] )\n",
    "\n",
    "#validation data\n",
    "val_sequences = tokeniser.texts_to_sequences(x_test)\n",
    "val_padded = pad_sequences(val_sequences, maxlen=max_len, truncating=trunc_type)\n",
    "val_padded_labels = pad_sequences(val_labels, maxlen=max_len, truncating=trunc_type, value = mapping['O'])\n",
    "\n",
    "#test data\n",
    "test_sequences = tokeniser.texts_to_sequences(test_sentences)\n",
    "test_padded = pad_sequences(test_sequences, maxlen=max_len, truncating=trunc_type)\n",
    "test_padded_labels = pad_sequences(test_labels, maxlen=max_len, truncating=trunc_type, value = mapping['O'])"
   ]
  },
  {
   "cell_type": "code",
   "execution_count": 17,
   "id": "897f6473",
   "metadata": {},
   "outputs": [],
   "source": [
    "# test_padded_labels"
   ]
  },
  {
   "cell_type": "markdown",
   "id": "3fdb56c1",
   "metadata": {},
   "source": [
    "## Generate word embeddings"
   ]
  },
  {
   "cell_type": "code",
   "execution_count": 18,
   "id": "f2e0e04d",
   "metadata": {},
   "outputs": [
    {
     "name": "stdout",
     "output_type": "stream",
     "text": [
      "Requirement already satisfied: fasttext in /Users/chandanroy/miniforge3/envs/tf_macos/lib/python3.8/site-packages (0.9.2)\r\n",
      "Requirement already satisfied: numpy in /Users/chandanroy/miniforge3/envs/tf_macos/lib/python3.8/site-packages (from fasttext) (1.19.5)\r\n",
      "Requirement already satisfied: pybind11>=2.2 in /Users/chandanroy/miniforge3/envs/tf_macos/lib/python3.8/site-packages (from fasttext) (2.8.1)\r\n",
      "Requirement already satisfied: setuptools>=0.7.0 in /Users/chandanroy/miniforge3/envs/tf_macos/lib/python3.8/site-packages (from fasttext) (49.6.0.post20210108)\r\n"
     ]
    }
   ],
   "source": [
    "!pip install fasttext"
   ]
  },
  {
   "cell_type": "code",
   "execution_count": 19,
   "id": "e4ce7e80",
   "metadata": {},
   "outputs": [
    {
     "name": "stderr",
     "output_type": "stream",
     "text": [
      "Warning : `load_model` does not return WordVectorModel or SupervisedModel any more, but a `FastText` object which is very similar.\n"
     ]
    }
   ],
   "source": [
    "import fasttext\n",
    "model = fasttext.load_model('indicnlp.ft.hi.300.bin')"
   ]
  },
  {
   "cell_type": "code",
   "execution_count": 20,
   "id": "a404e940",
   "metadata": {},
   "outputs": [
    {
     "name": "stdout",
     "output_type": "stream",
     "text": [
      "total number of embeddings found:1137\n",
      "Total number of embeddings not found: 2\n"
     ]
    }
   ],
   "source": [
    "# create embeedings matrix that we can fit in keras layer\n",
    "hits = 0\n",
    "miss = 0\n",
    "len_vocab = len(tokeniser.word_index)+1\n",
    "word_vec_mat = np.zeros((len_vocab, 300))\n",
    "\n",
    "for sentence in x_train:\n",
    "    for word in sentence:\n",
    "        if word in model.labels:\n",
    "            hits+=1\n",
    "            \n",
    "            word_vec_mat[tokeniser.word_index[word]] = model.get_word_vector(word)\n",
    "        else:\n",
    "            miss+=1\n",
    "print(f\"total number of embeddings found:{hits}\")\n",
    "print(f\"Total number of embeddings not found: {miss}\")"
   ]
  },
  {
   "cell_type": "code",
   "execution_count": 21,
   "id": "e9878c65",
   "metadata": {},
   "outputs": [],
   "source": [
    "# create Embedding layer\n",
    "emb_dim=300\n",
    "embedding_layer = keras.layers.Embedding(len_vocab,\n",
    "                                         emb_dim, \n",
    "                                         embeddings_initializer = keras.initializers.Constant(word_vec_mat),\n",
    "                                        trainable = False)\n"
   ]
  },
  {
   "cell_type": "code",
   "execution_count": null,
   "id": "fcbd196b",
   "metadata": {},
   "outputs": [],
   "source": []
  },
  {
   "cell_type": "markdown",
   "id": "b9856e8e",
   "metadata": {},
   "source": [
    "# Modeling"
   ]
  },
  {
   "cell_type": "code",
   "execution_count": 22,
   "id": "cb1b1fae",
   "metadata": {},
   "outputs": [
    {
     "name": "stderr",
     "output_type": "stream",
     "text": [
      "2021-11-25 17:28:09.549850: I tensorflow/core/common_runtime/pluggable_device/pluggable_device_factory.cc:305] Could not identify NUMA node of platform GPU ID 0, defaulting to 0. Your kernel may not have been built with NUMA support.\n",
      "2021-11-25 17:28:09.549987: I tensorflow/core/common_runtime/pluggable_device/pluggable_device_factory.cc:271] Created TensorFlow device (/job:localhost/replica:0/task:0/device:GPU:0 with 0 MB memory) -> physical PluggableDevice (device: 0, name: METAL, pci bus id: <undefined>)\n"
     ]
    },
    {
     "name": "stdout",
     "output_type": "stream",
     "text": [
      "Metal device set to: Apple M1\n",
      "Model: \"sequential\"\n",
      "_________________________________________________________________\n",
      "Layer (type)                 Output Shape              Param #   \n",
      "=================================================================\n",
      "embedding (Embedding)        (None, None, 300)         78600     \n",
      "_________________________________________________________________\n",
      "bidirectional (Bidirectional (None, None, 64)          85248     \n",
      "_________________________________________________________________\n",
      "time_distributed (TimeDistri (None, None, 10)          650       \n",
      "=================================================================\n",
      "Total params: 164,498\n",
      "Trainable params: 85,898\n",
      "Non-trainable params: 78,600\n",
      "_________________________________________________________________\n"
     ]
    }
   ],
   "source": [
    "model_lstm = tf.keras.Sequential([\n",
    "    embedding_layer,\n",
    "    tf.keras.layers.Bidirectional(tf.keras.layers.LSTM(32, return_sequences = True)),\n",
    "    \n",
    "#     tf.keras.layers.Dense(len(tags), activation='softmax'),\n",
    "    tf.keras.layers.TimeDistributed(tf.keras.layers.Dense(len(enc.classes_), activation='softmax')),\n",
    "])\n",
    "model_lstm.summary()"
   ]
  },
  {
   "cell_type": "code",
   "execution_count": 23,
   "id": "19f0f106",
   "metadata": {},
   "outputs": [],
   "source": [
    "model_lstm.compile(optimizer='adam', loss = tf.keras.losses.SparseCategoricalCrossentropy(), metrics=['accuracy'] )"
   ]
  },
  {
   "cell_type": "code",
   "execution_count": 24,
   "id": "27eef44b",
   "metadata": {
    "scrolled": true
   },
   "outputs": [
    {
     "name": "stderr",
     "output_type": "stream",
     "text": [
      "2021-11-25 17:28:11.656378: I tensorflow/compiler/mlir/mlir_graph_optimization_pass.cc:185] None of the MLIR Optimization Passes are enabled (registered 2)\n",
      "2021-11-25 17:28:11.656663: W tensorflow/core/platform/profile_utils/cpu_utils.cc:128] Failed to get CPU frequency: 0 Hz\n"
     ]
    },
    {
     "name": "stdout",
     "output_type": "stream",
     "text": [
      "Epoch 1/100\n"
     ]
    },
    {
     "name": "stderr",
     "output_type": "stream",
     "text": [
      "2021-11-25 17:28:12.650477: I tensorflow/core/grappler/optimizers/custom_graph_optimizer_registry.cc:112] Plugin optimizer for device_type GPU is enabled.\n",
      "2021-11-25 17:28:12.829224: I tensorflow/core/grappler/optimizers/custom_graph_optimizer_registry.cc:112] Plugin optimizer for device_type GPU is enabled.\n",
      "2021-11-25 17:28:12.843533: I tensorflow/core/grappler/optimizers/custom_graph_optimizer_registry.cc:112] Plugin optimizer for device_type GPU is enabled.\n",
      "2021-11-25 17:28:13.049323: I tensorflow/core/grappler/optimizers/custom_graph_optimizer_registry.cc:112] Plugin optimizer for device_type GPU is enabled.\n",
      "2021-11-25 17:28:13.072435: I tensorflow/core/grappler/optimizers/custom_graph_optimizer_registry.cc:112] Plugin optimizer for device_type GPU is enabled.\n"
     ]
    },
    {
     "name": "stdout",
     "output_type": "stream",
     "text": [
      "21/21 [==============================] - ETA: 0s - loss: 2.0156 - accuracy: 0.8617"
     ]
    },
    {
     "name": "stderr",
     "output_type": "stream",
     "text": [
      "2021-11-25 17:28:14.834341: I tensorflow/core/grappler/optimizers/custom_graph_optimizer_registry.cc:112] Plugin optimizer for device_type GPU is enabled.\n",
      "2021-11-25 17:28:14.910287: I tensorflow/core/grappler/optimizers/custom_graph_optimizer_registry.cc:112] Plugin optimizer for device_type GPU is enabled.\n",
      "2021-11-25 17:28:14.920188: I tensorflow/core/grappler/optimizers/custom_graph_optimizer_registry.cc:112] Plugin optimizer for device_type GPU is enabled.\n"
     ]
    },
    {
     "name": "stdout",
     "output_type": "stream",
     "text": [
      "21/21 [==============================] - 4s 96ms/step - loss: 2.0156 - accuracy: 0.8617 - val_loss: 1.6582 - val_accuracy: 0.9293\n",
      "Epoch 2/100\n",
      "21/21 [==============================] - 1s 51ms/step - loss: 0.9105 - accuracy: 0.9239 - val_loss: 0.3052 - val_accuracy: 0.9293\n",
      "Epoch 3/100\n",
      "21/21 [==============================] - 1s 51ms/step - loss: 0.2539 - accuracy: 0.9346 - val_loss: 0.2056 - val_accuracy: 0.9447\n",
      "Epoch 4/100\n",
      "21/21 [==============================] - 1s 49ms/step - loss: 0.1774 - accuracy: 0.9545 - val_loss: 0.1524 - val_accuracy: 0.9585\n",
      "Epoch 5/100\n",
      "21/21 [==============================] - 1s 49ms/step - loss: 0.1348 - accuracy: 0.9642 - val_loss: 0.1228 - val_accuracy: 0.9642\n",
      "Epoch 6/100\n",
      "21/21 [==============================] - 1s 50ms/step - loss: 0.1097 - accuracy: 0.9743 - val_loss: 0.1030 - val_accuracy: 0.9740\n",
      "Epoch 7/100\n",
      "21/21 [==============================] - 1s 48ms/step - loss: 0.0924 - accuracy: 0.9794 - val_loss: 0.0898 - val_accuracy: 0.9772\n",
      "Epoch 8/100\n",
      "21/21 [==============================] - 1s 48ms/step - loss: 0.0795 - accuracy: 0.9807 - val_loss: 0.0800 - val_accuracy: 0.9797\n",
      "Epoch 9/100\n",
      "21/21 [==============================] - 1s 50ms/step - loss: 0.0698 - accuracy: 0.9813 - val_loss: 0.0729 - val_accuracy: 0.9797\n",
      "Epoch 10/100\n",
      "21/21 [==============================] - 1s 49ms/step - loss: 0.0620 - accuracy: 0.9827 - val_loss: 0.0670 - val_accuracy: 0.9821\n",
      "Epoch 11/100\n",
      "21/21 [==============================] - 1s 49ms/step - loss: 0.0556 - accuracy: 0.9846 - val_loss: 0.0617 - val_accuracy: 0.9870\n",
      "Epoch 12/100\n",
      "21/21 [==============================] - 1s 48ms/step - loss: 0.0503 - accuracy: 0.9879 - val_loss: 0.0585 - val_accuracy: 0.9886\n",
      "Epoch 13/100\n",
      "21/21 [==============================] - 1s 47ms/step - loss: 0.0457 - accuracy: 0.9891 - val_loss: 0.0554 - val_accuracy: 0.9886\n",
      "Epoch 14/100\n",
      "21/21 [==============================] - 1s 49ms/step - loss: 0.0419 - accuracy: 0.9905 - val_loss: 0.0524 - val_accuracy: 0.9886\n",
      "Epoch 15/100\n",
      "21/21 [==============================] - 1s 49ms/step - loss: 0.0390 - accuracy: 0.9924 - val_loss: 0.0509 - val_accuracy: 0.9886\n",
      "Epoch 16/100\n",
      "21/21 [==============================] - 1s 48ms/step - loss: 0.0358 - accuracy: 0.9928 - val_loss: 0.0492 - val_accuracy: 0.9911\n",
      "Epoch 17/100\n",
      "21/21 [==============================] - 1s 48ms/step - loss: 0.0336 - accuracy: 0.9930 - val_loss: 0.0483 - val_accuracy: 0.9911\n",
      "Epoch 18/100\n",
      "21/21 [==============================] - 1s 50ms/step - loss: 0.0317 - accuracy: 0.9936 - val_loss: 0.0467 - val_accuracy: 0.9927\n",
      "Epoch 19/100\n",
      "21/21 [==============================] - 1s 50ms/step - loss: 0.0300 - accuracy: 0.9936 - val_loss: 0.0458 - val_accuracy: 0.9927\n",
      "Epoch 20/100\n",
      "21/21 [==============================] - 1s 49ms/step - loss: 0.0287 - accuracy: 0.9936 - val_loss: 0.0463 - val_accuracy: 0.9919\n",
      "Epoch 21/100\n",
      "21/21 [==============================] - 1s 51ms/step - loss: 0.0270 - accuracy: 0.9938 - val_loss: 0.0436 - val_accuracy: 0.9927\n",
      "Epoch 22/100\n",
      "21/21 [==============================] - 1s 49ms/step - loss: 0.0251 - accuracy: 0.9940 - val_loss: 0.0444 - val_accuracy: 0.9927\n",
      "Epoch 23/100\n",
      "21/21 [==============================] - 1s 50ms/step - loss: 0.0239 - accuracy: 0.9940 - val_loss: 0.0438 - val_accuracy: 0.9927\n",
      "Epoch 24/100\n",
      "21/21 [==============================] - 1s 51ms/step - loss: 0.0227 - accuracy: 0.9942 - val_loss: 0.0435 - val_accuracy: 0.9927\n",
      "Epoch 25/100\n",
      "21/21 [==============================] - 1s 50ms/step - loss: 0.0211 - accuracy: 0.9951 - val_loss: 0.0425 - val_accuracy: 0.9927\n",
      "Epoch 26/100\n",
      "21/21 [==============================] - 1s 52ms/step - loss: 0.0201 - accuracy: 0.9953 - val_loss: 0.0421 - val_accuracy: 0.9927\n",
      "Epoch 27/100\n",
      "21/21 [==============================] - 1s 50ms/step - loss: 0.0189 - accuracy: 0.9961 - val_loss: 0.0427 - val_accuracy: 0.9927\n",
      "Epoch 28/100\n",
      "21/21 [==============================] - 1s 48ms/step - loss: 0.0180 - accuracy: 0.9959 - val_loss: 0.0414 - val_accuracy: 0.9927\n",
      "Epoch 29/100\n",
      "21/21 [==============================] - 1s 49ms/step - loss: 0.0169 - accuracy: 0.9961 - val_loss: 0.0427 - val_accuracy: 0.9919\n",
      "Epoch 30/100\n",
      "21/21 [==============================] - 1s 50ms/step - loss: 0.0164 - accuracy: 0.9963 - val_loss: 0.0418 - val_accuracy: 0.9927\n",
      "Epoch 31/100\n",
      "21/21 [==============================] - 1s 50ms/step - loss: 0.0155 - accuracy: 0.9965 - val_loss: 0.0408 - val_accuracy: 0.9927\n",
      "Epoch 32/100\n",
      "21/21 [==============================] - 1s 50ms/step - loss: 0.0142 - accuracy: 0.9965 - val_loss: 0.0417 - val_accuracy: 0.9919\n",
      "Epoch 33/100\n",
      "21/21 [==============================] - 1s 49ms/step - loss: 0.0134 - accuracy: 0.9967 - val_loss: 0.0427 - val_accuracy: 0.9919\n",
      "Epoch 34/100\n",
      "21/21 [==============================] - 1s 49ms/step - loss: 0.0126 - accuracy: 0.9969 - val_loss: 0.0413 - val_accuracy: 0.9919\n",
      "Epoch 35/100\n",
      "21/21 [==============================] - 1s 50ms/step - loss: 0.0119 - accuracy: 0.9971 - val_loss: 0.0419 - val_accuracy: 0.9919\n",
      "Epoch 36/100\n",
      "21/21 [==============================] - 1s 50ms/step - loss: 0.0111 - accuracy: 0.9975 - val_loss: 0.0409 - val_accuracy: 0.9919\n",
      "Epoch 37/100\n",
      "21/21 [==============================] - 1s 50ms/step - loss: 0.0104 - accuracy: 0.9977 - val_loss: 0.0415 - val_accuracy: 0.9919\n",
      "Epoch 38/100\n",
      "21/21 [==============================] - 1s 49ms/step - loss: 0.0099 - accuracy: 0.9977 - val_loss: 0.0415 - val_accuracy: 0.9919\n",
      "Epoch 39/100\n",
      "21/21 [==============================] - 1s 49ms/step - loss: 0.0093 - accuracy: 0.9984 - val_loss: 0.0415 - val_accuracy: 0.9919\n",
      "Epoch 40/100\n",
      "21/21 [==============================] - 1s 48ms/step - loss: 0.0089 - accuracy: 0.9986 - val_loss: 0.0404 - val_accuracy: 0.9927\n",
      "Epoch 41/100\n",
      "21/21 [==============================] - 1s 50ms/step - loss: 0.0085 - accuracy: 0.9986 - val_loss: 0.0429 - val_accuracy: 0.9911\n",
      "Epoch 42/100\n",
      "21/21 [==============================] - 1s 51ms/step - loss: 0.0080 - accuracy: 0.9986 - val_loss: 0.0406 - val_accuracy: 0.9927\n",
      "Epoch 43/100\n",
      "21/21 [==============================] - 1s 50ms/step - loss: 0.0076 - accuracy: 0.9988 - val_loss: 0.0419 - val_accuracy: 0.9911\n",
      "Epoch 44/100\n",
      "21/21 [==============================] - 1s 49ms/step - loss: 0.0073 - accuracy: 0.9988 - val_loss: 0.0416 - val_accuracy: 0.9911\n",
      "Epoch 45/100\n",
      "21/21 [==============================] - 1s 49ms/step - loss: 0.0072 - accuracy: 0.9988 - val_loss: 0.0418 - val_accuracy: 0.9911\n",
      "Epoch 46/100\n",
      "21/21 [==============================] - 1s 51ms/step - loss: 0.0066 - accuracy: 0.9990 - val_loss: 0.0398 - val_accuracy: 0.9927\n",
      "Epoch 47/100\n",
      "21/21 [==============================] - 1s 49ms/step - loss: 0.0064 - accuracy: 0.9990 - val_loss: 0.0421 - val_accuracy: 0.9911\n",
      "Epoch 48/100\n",
      "21/21 [==============================] - 1s 50ms/step - loss: 0.0061 - accuracy: 0.9990 - val_loss: 0.0425 - val_accuracy: 0.9911\n",
      "Epoch 49/100\n",
      "21/21 [==============================] - 1s 51ms/step - loss: 0.0060 - accuracy: 0.9992 - val_loss: 0.0432 - val_accuracy: 0.9911\n",
      "Epoch 50/100\n",
      "21/21 [==============================] - 1s 51ms/step - loss: 0.0055 - accuracy: 0.9992 - val_loss: 0.0417 - val_accuracy: 0.9911\n",
      "Epoch 51/100\n",
      "21/21 [==============================] - 1s 51ms/step - loss: 0.0052 - accuracy: 0.9994 - val_loss: 0.0415 - val_accuracy: 0.9911\n",
      "Epoch 52/100\n",
      "21/21 [==============================] - 1s 50ms/step - loss: 0.0049 - accuracy: 0.9994 - val_loss: 0.0415 - val_accuracy: 0.9911\n",
      "Epoch 53/100\n",
      "21/21 [==============================] - 1s 50ms/step - loss: 0.0048 - accuracy: 0.9992 - val_loss: 0.0424 - val_accuracy: 0.9911\n",
      "Epoch 54/100\n",
      "21/21 [==============================] - 1s 50ms/step - loss: 0.0046 - accuracy: 0.9994 - val_loss: 0.0424 - val_accuracy: 0.9911\n",
      "Epoch 55/100\n",
      "21/21 [==============================] - 1s 51ms/step - loss: 0.0044 - accuracy: 0.9996 - val_loss: 0.0420 - val_accuracy: 0.9911\n",
      "Epoch 56/100\n",
      "21/21 [==============================] - 1s 50ms/step - loss: 0.0043 - accuracy: 0.9996 - val_loss: 0.0412 - val_accuracy: 0.9919\n",
      "Epoch 57/100\n",
      "21/21 [==============================] - 1s 50ms/step - loss: 0.0045 - accuracy: 0.9998 - val_loss: 0.0429 - val_accuracy: 0.9911\n",
      "Epoch 58/100\n"
     ]
    },
    {
     "name": "stdout",
     "output_type": "stream",
     "text": [
      "21/21 [==============================] - 1s 51ms/step - loss: 0.0039 - accuracy: 0.9996 - val_loss: 0.0415 - val_accuracy: 0.9911\n",
      "Epoch 59/100\n",
      "21/21 [==============================] - 1s 50ms/step - loss: 0.0038 - accuracy: 0.9996 - val_loss: 0.0418 - val_accuracy: 0.9911\n",
      "Epoch 60/100\n",
      "21/21 [==============================] - 1s 49ms/step - loss: 0.0035 - accuracy: 0.9996 - val_loss: 0.0414 - val_accuracy: 0.9911\n",
      "Epoch 61/100\n",
      "21/21 [==============================] - 1s 51ms/step - loss: 0.0034 - accuracy: 0.9996 - val_loss: 0.0422 - val_accuracy: 0.9911\n",
      "Epoch 62/100\n",
      "21/21 [==============================] - 1s 50ms/step - loss: 0.0033 - accuracy: 0.9996 - val_loss: 0.0413 - val_accuracy: 0.9911\n",
      "Epoch 63/100\n",
      "21/21 [==============================] - 1s 51ms/step - loss: 0.0032 - accuracy: 0.9996 - val_loss: 0.0417 - val_accuracy: 0.9911\n",
      "Epoch 64/100\n",
      "21/21 [==============================] - 1s 50ms/step - loss: 0.0031 - accuracy: 0.9996 - val_loss: 0.0424 - val_accuracy: 0.9911\n",
      "Epoch 65/100\n",
      "21/21 [==============================] - 1s 49ms/step - loss: 0.0030 - accuracy: 0.9996 - val_loss: 0.0412 - val_accuracy: 0.9919\n",
      "Epoch 66/100\n",
      "21/21 [==============================] - 1s 49ms/step - loss: 0.0029 - accuracy: 0.9996 - val_loss: 0.0408 - val_accuracy: 0.9919\n",
      "Epoch 67/100\n",
      "21/21 [==============================] - 1s 49ms/step - loss: 0.0028 - accuracy: 0.9996 - val_loss: 0.0417 - val_accuracy: 0.9902\n",
      "Epoch 68/100\n",
      "21/21 [==============================] - 1s 50ms/step - loss: 0.0026 - accuracy: 0.9996 - val_loss: 0.0413 - val_accuracy: 0.9911\n",
      "Epoch 69/100\n",
      "21/21 [==============================] - 1s 50ms/step - loss: 0.0025 - accuracy: 0.9996 - val_loss: 0.0411 - val_accuracy: 0.9919\n",
      "Epoch 70/100\n",
      "21/21 [==============================] - 1s 50ms/step - loss: 0.0025 - accuracy: 0.9996 - val_loss: 0.0425 - val_accuracy: 0.9902\n",
      "Epoch 71/100\n",
      "21/21 [==============================] - 1s 50ms/step - loss: 0.0025 - accuracy: 0.9996 - val_loss: 0.0407 - val_accuracy: 0.9919\n",
      "Epoch 72/100\n",
      "21/21 [==============================] - 1s 49ms/step - loss: 0.0024 - accuracy: 0.9996 - val_loss: 0.0423 - val_accuracy: 0.9911\n",
      "Epoch 73/100\n",
      "21/21 [==============================] - 1s 49ms/step - loss: 0.0022 - accuracy: 0.9998 - val_loss: 0.0414 - val_accuracy: 0.9911\n",
      "Epoch 74/100\n",
      "21/21 [==============================] - 1s 50ms/step - loss: 0.0021 - accuracy: 0.9996 - val_loss: 0.0419 - val_accuracy: 0.9902\n",
      "Epoch 75/100\n",
      "21/21 [==============================] - 1s 49ms/step - loss: 0.0021 - accuracy: 0.9996 - val_loss: 0.0414 - val_accuracy: 0.9919\n",
      "Epoch 76/100\n",
      "21/21 [==============================] - 1s 51ms/step - loss: 0.0020 - accuracy: 0.9998 - val_loss: 0.0422 - val_accuracy: 0.9902\n",
      "Epoch 77/100\n",
      "21/21 [==============================] - 1s 50ms/step - loss: 0.0019 - accuracy: 0.9996 - val_loss: 0.0413 - val_accuracy: 0.9919\n",
      "Epoch 78/100\n",
      "21/21 [==============================] - 1s 49ms/step - loss: 0.0019 - accuracy: 0.9996 - val_loss: 0.0416 - val_accuracy: 0.9919\n",
      "Epoch 79/100\n",
      "21/21 [==============================] - 1s 49ms/step - loss: 0.0018 - accuracy: 0.9996 - val_loss: 0.0417 - val_accuracy: 0.9911\n",
      "Epoch 80/100\n",
      "21/21 [==============================] - 1s 50ms/step - loss: 0.0018 - accuracy: 0.9998 - val_loss: 0.0420 - val_accuracy: 0.9894\n",
      "Epoch 81/100\n",
      "21/21 [==============================] - 1s 49ms/step - loss: 0.0017 - accuracy: 0.9998 - val_loss: 0.0419 - val_accuracy: 0.9911\n",
      "Epoch 82/100\n",
      "21/21 [==============================] - 1s 57ms/step - loss: 0.0016 - accuracy: 0.9998 - val_loss: 0.0420 - val_accuracy: 0.9919\n",
      "Epoch 83/100\n",
      "21/21 [==============================] - 1s 51ms/step - loss: 0.0016 - accuracy: 0.9998 - val_loss: 0.0416 - val_accuracy: 0.9911\n",
      "Epoch 84/100\n",
      "21/21 [==============================] - 1s 49ms/step - loss: 0.0016 - accuracy: 0.9998 - val_loss: 0.0421 - val_accuracy: 0.9911\n",
      "Epoch 85/100\n",
      "21/21 [==============================] - 1s 51ms/step - loss: 0.0015 - accuracy: 0.9998 - val_loss: 0.0431 - val_accuracy: 0.9902\n",
      "Epoch 86/100\n",
      "21/21 [==============================] - 1s 48ms/step - loss: 0.0015 - accuracy: 0.9998 - val_loss: 0.0416 - val_accuracy: 0.9911\n",
      "Epoch 87/100\n",
      "21/21 [==============================] - 1s 49ms/step - loss: 0.0015 - accuracy: 0.9998 - val_loss: 0.0423 - val_accuracy: 0.9911\n",
      "Epoch 88/100\n",
      "21/21 [==============================] - 1s 50ms/step - loss: 0.0014 - accuracy: 0.9998 - val_loss: 0.0429 - val_accuracy: 0.9911\n",
      "Epoch 89/100\n",
      "21/21 [==============================] - 1s 50ms/step - loss: 0.0013 - accuracy: 0.9998 - val_loss: 0.0426 - val_accuracy: 0.9911\n",
      "Epoch 90/100\n",
      "21/21 [==============================] - 1s 50ms/step - loss: 0.0013 - accuracy: 0.9998 - val_loss: 0.0430 - val_accuracy: 0.9919\n",
      "Epoch 91/100\n",
      "21/21 [==============================] - 1s 49ms/step - loss: 0.0013 - accuracy: 0.9998 - val_loss: 0.0422 - val_accuracy: 0.9902\n",
      "Epoch 92/100\n",
      "21/21 [==============================] - 1s 50ms/step - loss: 0.0012 - accuracy: 0.9998 - val_loss: 0.0431 - val_accuracy: 0.9911\n",
      "Epoch 93/100\n",
      "21/21 [==============================] - 1s 49ms/step - loss: 0.0012 - accuracy: 0.9998 - val_loss: 0.0426 - val_accuracy: 0.9911\n",
      "Epoch 94/100\n",
      "21/21 [==============================] - 1s 49ms/step - loss: 0.0012 - accuracy: 1.0000 - val_loss: 0.0430 - val_accuracy: 0.9919\n",
      "Epoch 95/100\n",
      "21/21 [==============================] - 1s 51ms/step - loss: 0.0011 - accuracy: 1.0000 - val_loss: 0.0432 - val_accuracy: 0.9911\n",
      "Epoch 96/100\n",
      "21/21 [==============================] - 1s 49ms/step - loss: 0.0011 - accuracy: 0.9998 - val_loss: 0.0431 - val_accuracy: 0.9911\n",
      "Epoch 97/100\n",
      "21/21 [==============================] - 1s 51ms/step - loss: 0.0011 - accuracy: 0.9998 - val_loss: 0.0433 - val_accuracy: 0.9911\n",
      "Epoch 98/100\n",
      "21/21 [==============================] - 1s 51ms/step - loss: 0.0011 - accuracy: 1.0000 - val_loss: 0.0431 - val_accuracy: 0.9902\n",
      "Epoch 99/100\n",
      "21/21 [==============================] - 1s 50ms/step - loss: 0.0011 - accuracy: 1.0000 - val_loss: 0.0425 - val_accuracy: 0.9911\n",
      "Epoch 100/100\n",
      "21/21 [==============================] - 1s 50ms/step - loss: 0.0010 - accuracy: 1.0000 - val_loss: 0.0437 - val_accuracy: 0.9911\n"
     ]
    }
   ],
   "source": [
    "#training\n",
    "num_epochs = 100\n",
    "history = model_lstm.fit(train_padded, y = train_padded_labels,epochs = num_epochs,  batch_size=8, validation_data=(val_padded, val_padded_labels))"
   ]
  },
  {
   "cell_type": "code",
   "execution_count": 25,
   "id": "43a3f9d1",
   "metadata": {},
   "outputs": [],
   "source": [
    "import matplotlib.pyplot as plt\n",
    "\n",
    "\n",
    "def plot_graphs(history, string):\n",
    "    plt.plot(history.history[string])\n",
    "    plt.plot(history.history['val_'+string])\n",
    "    plt.xlabel(\"Epochs\")\n",
    "    plt.ylabel(string)\n",
    "    plt.legend([string, 'val_'+string])\n",
    "    plt.show()"
   ]
  },
  {
   "cell_type": "code",
   "execution_count": 26,
   "id": "eac468a5",
   "metadata": {},
   "outputs": [
    {
     "data": {
      "image/png": "[encoded data removed]",
      "text/plain": [
       "<Figure size 432x288 with 1 Axes>"
      ]
     },
     "metadata": {
      "needs_background": "light"
     },
     "output_type": "display_data"
    }
   ],
   "source": [
    "plot_graphs(history, 'loss')"
   ]
  },
  {
   "cell_type": "code",
   "execution_count": 27,
   "id": "9c9decbc",
   "metadata": {},
   "outputs": [
    {
     "data": {
      "image/png": "[encoded data removed]",
      "text/plain": [
       "<Figure size 432x288 with 1 Axes>"
      ]
     },
     "metadata": {
      "needs_background": "light"
     },
     "output_type": "display_data"
    }
   ],
   "source": [
    "plot_graphs(history, 'accuracy')"
   ]
  },
  {
   "cell_type": "markdown",
   "id": "7ea2aa7d",
   "metadata": {},
   "source": [
    "## Model evaluation on test data"
   ]
  },
  {
   "cell_type": "code",
   "execution_count": 28,
   "id": "0286ce38",
   "metadata": {},
   "outputs": [
    {
     "name": "stdout",
     "output_type": "stream",
     "text": [
      "6/6 [==============================] - 0s 38ms/step - loss: 0.0686 - accuracy: 0.9718\n",
      "Accuracy for train data: 97.18106985092163%\n"
     ]
    }
   ],
   "source": [
    "#train data accuracy\n",
    "train_loss, train_accuracy = model_lstm.evaluate(x = train_padded, y=train_padded_labels)\n",
    "print(f\"Accuracy for train data: {train_accuracy*100}%\")"
   ]
  },
  {
   "cell_type": "code",
   "execution_count": 29,
   "id": "f6c63a7c",
   "metadata": {},
   "outputs": [
    {
     "name": "stdout",
     "output_type": "stream",
     "text": [
      "1/1 [==============================] - 0s 124ms/step - loss: 0.2199 - accuracy: 0.9603\n"
     ]
    }
   ],
   "source": [
    "#test data accuracy\n",
    "loss, accuracy = model_lstm.evaluate(x = test_padded, y=test_padded_labels)"
   ]
  },
  {
   "cell_type": "code",
   "execution_count": 30,
   "id": "15cd16df",
   "metadata": {
    "scrolled": false
   },
   "outputs": [
    {
     "name": "stdout",
     "output_type": "stream",
     "text": [
      "Accuracy for test data: 96.03174924850464%\n"
     ]
    }
   ],
   "source": [
    "print(f\"Accuracy for test data: {accuracy*100}%\")"
   ]
  },
  {
   "cell_type": "markdown",
   "id": "a6cdbf29",
   "metadata": {},
   "source": [
    "# Predictive analysis"
   ]
  },
  {
   "cell_type": "markdown",
   "id": "2a2a76bf",
   "metadata": {},
   "source": [
    "Since I was able to collect very less number of Indic NER dataset, Therefore, I desined a very simple lstm based model (multiple input and multiple output) that shows very good performance on our test data.\n",
    "#### Result:\n",
    "* Train set accuracy: __97.18%__\n",
    "* Test set accuracy: __96.03%__\n",
    "\n"
   ]
  },
  {
   "cell_type": "markdown",
   "id": "26618926",
   "metadata": {},
   "source": [
    "The above result may vary a little based on the train and test split as it is random in the notebook."
   ]
  }
 ],
 "metadata": {
  "kernelspec": {
   "display_name": "Python 3 (ipykernel)",
   "language": "python",
   "name": "python3"
  },
  "language_info": {
   "codemirror_mode": {
    "name": "ipython",
    "version": 3
   },
   "file_extension": ".py",
   "mimetype": "text/x-python",
   "name": "python",
   "nbconvert_exporter": "python",
   "pygments_lexer": "ipython3",
   "version": "3.8.10"
  }
 },
 "nbformat": 4,
 "nbformat_minor": 5
}
